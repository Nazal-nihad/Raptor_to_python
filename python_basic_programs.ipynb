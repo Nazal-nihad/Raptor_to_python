{
  "nbformat": 4,
  "nbformat_minor": 0,
  "metadata": {
    "colab": {
      "provenance": [],
      "authorship_tag": "ABX9TyPlItNrCZ6BVhxVANfLmCuI"
    },
    "kernelspec": {
      "name": "python3",
      "display_name": "Python 3"
    },
    "language_info": {
      "name": "python"
    }
  },
  "cells": [
    {
      "cell_type": "code",
      "execution_count": null,
      "metadata": {
        "colab": {
          "base_uri": "https://localhost:8080/"
        },
        "id": "FXAIwGy4folY",
        "outputId": "86a05c84-0b4b-4712-ace8-663f882fd94d"
      },
      "outputs": [
        {
          "output_type": "stream",
          "name": "stdout",
          "text": [
            "hello world\n"
          ]
        }
      ],
      "source": [
        "print('hello world')"
      ]
    },
    {
      "cell_type": "code",
      "source": [
        "a=5\n",
        "print(a)\n",
        "print(type(a))"
      ],
      "metadata": {
        "colab": {
          "base_uri": "https://localhost:8080/"
        },
        "id": "rihYfOpgf5CV",
        "outputId": "dc1561d1-6b79-4acd-c44c-1ea46f1df622"
      },
      "execution_count": null,
      "outputs": [
        {
          "output_type": "stream",
          "name": "stdout",
          "text": [
            "5\n",
            "<class 'int'>\n"
          ]
        }
      ]
    },
    {
      "cell_type": "code",
      "source": [
        "f=1.5\n",
        "print(f)\n",
        "print(type(f))"
      ],
      "metadata": {
        "colab": {
          "base_uri": "https://localhost:8080/"
        },
        "id": "RlbIzZP6gGKe",
        "outputId": "ef841b2b-c893-4059-86f9-a90b8527793c"
      },
      "execution_count": null,
      "outputs": [
        {
          "output_type": "stream",
          "name": "stdout",
          "text": [
            "1.5\n",
            "<class 'float'>\n"
          ]
        }
      ]
    },
    {
      "cell_type": "code",
      "source": [
        "s=\"hello\"\n",
        "print(s)\n",
        "print(type(s))"
      ],
      "metadata": {
        "colab": {
          "base_uri": "https://localhost:8080/"
        },
        "id": "dxkWqeqAgP6U",
        "outputId": "dcbf2064-41e6-4f76-9b72-521758ac1d29"
      },
      "execution_count": null,
      "outputs": [
        {
          "output_type": "stream",
          "name": "stdout",
          "text": [
            "hello\n",
            "<class 'str'>\n"
          ]
        }
      ]
    },
    {
      "cell_type": "code",
      "source": [
        "b=True\n",
        "print(type(b))\n"
      ],
      "metadata": {
        "colab": {
          "base_uri": "https://localhost:8080/"
        },
        "id": "e006lws7gwwp",
        "outputId": "6b8bc346-6b1f-4441-dab0-df55432a9f81"
      },
      "execution_count": null,
      "outputs": [
        {
          "output_type": "stream",
          "name": "stdout",
          "text": [
            "<class 'bool'>\n"
          ]
        }
      ]
    },
    {
      "cell_type": "code",
      "source": [
        "t=3+5j\n",
        "print(t)\n",
        "print(type(t))"
      ],
      "metadata": {
        "id": "5deb0rt3g-KD",
        "colab": {
          "base_uri": "https://localhost:8080/"
        },
        "outputId": "24a28dc3-7fbf-4d48-9e42-be0f841c72ea"
      },
      "execution_count": null,
      "outputs": [
        {
          "output_type": "stream",
          "name": "stdout",
          "text": [
            "(3+5j)\n",
            "<class 'complex'>\n"
          ]
        }
      ]
    },
    {
      "cell_type": "code",
      "source": [
        "a=5\n",
        "b=7\n",
        "ab_sum=a+b\n",
        "print(ab_sum)\n",
        "\n",
        "ab_diff=a-b\n",
        "print(ab_diff)\n",
        "\n",
        "ab_div=a/b\n",
        "print(ab_div)\n",
        "\n",
        "ab_multiply = a*b\n",
        "print(ab_multiply)\n",
        "\n",
        "ab_pow=a**b\n",
        "print(ab_pow)\n",
        "\n",
        "ab_rem=a%b\n",
        "print(ab_rem)"
      ],
      "metadata": {
        "colab": {
          "base_uri": "https://localhost:8080/"
        },
        "id": "BcnyV8CjhaGu",
        "outputId": "84cd2e27-a07a-4661-faab-fca97af6ef4d"
      },
      "execution_count": null,
      "outputs": [
        {
          "output_type": "stream",
          "name": "stdout",
          "text": [
            "12\n",
            "-2\n",
            "0.7142857142857143\n",
            "35\n",
            "78125\n",
            "5\n"
          ]
        }
      ]
    },
    {
      "cell_type": "code",
      "source": [
        "name = input('name ')\n",
        "print( 'hello ' , name)\n",
        " "
      ],
      "metadata": {
        "colab": {
          "base_uri": "https://localhost:8080/"
        },
        "id": "w_FqP1kmi91G",
        "outputId": "c821f1e8-464a-4a61-bd8c-9a8263ab7264"
      },
      "execution_count": null,
      "outputs": [
        {
          "output_type": "stream",
          "name": "stdout",
          "text": [
            "name nnn\n",
            "hello  nnn\n"
          ]
        }
      ]
    },
    {
      "cell_type": "code",
      "source": [
        "a=5\n",
        "b=6\n",
        "c=8\n",
        "\n",
        "avg=(a+b+c)/3\n",
        "print(avg)"
      ],
      "metadata": {
        "colab": {
          "base_uri": "https://localhost:8080/"
        },
        "id": "v04r9pEVnlMT",
        "outputId": "900bfd29-1ffd-4fba-c3e0-eaf089515073"
      },
      "execution_count": null,
      "outputs": [
        {
          "output_type": "stream",
          "name": "stdout",
          "text": [
            "6.333333333333333\n"
          ]
        }
      ]
    },
    {
      "cell_type": "code",
      "source": [
        " a=int(input('enter no 1 '))\n",
        " b=int(input('enter no 2 '))\n",
        " c=int(input('enter no 3 '))\n",
        "\n",
        "avg=(a+b+c)/3\n",
        "print('avg is ' ,avg)"
      ],
      "metadata": {
        "colab": {
          "base_uri": "https://localhost:8080/"
        },
        "id": "is3ieVRioBkV",
        "outputId": "40cf037c-c3de-4da6-e15b-3fae912e91c3"
      },
      "execution_count": null,
      "outputs": [
        {
          "output_type": "stream",
          "name": "stdout",
          "text": [
            "enter no 1 6\n",
            "enter no 2 2\n",
            "enter no 3 1\n",
            "avg is  3.0\n"
          ]
        }
      ]
    },
    {
      "cell_type": "code",
      "source": [
        "#area and perimeter of triangle\n",
        "import math\n",
        "base=int(input('enter side 1 '))\n",
        "height=int(input('enter side 2 '))\n",
        "altitude=int(input('enter side 3 '))\n",
        "\n",
        "perimeter=base+height+altitude\n",
        "s=perimeter/2\n",
        "print(perimeter)\n",
        "\n",
        "area = math.sqrt(s*(s-base)*(s-altitude)*(s-height))\n",
        "print(area)"
      ],
      "metadata": {
        "colab": {
          "base_uri": "https://localhost:8080/"
        },
        "id": "cDh1tjEusalh",
        "outputId": "4712a59e-d47c-4959-95a2-6effcd715af1"
      },
      "execution_count": null,
      "outputs": [
        {
          "output_type": "stream",
          "name": "stdout",
          "text": [
            "enter side 1 3\n",
            "enter side 2 4\n",
            "enter side 3 5\n",
            "12\n",
            "6.0\n"
          ]
        }
      ]
    },
    {
      "cell_type": "code",
      "source": [
        "#area of circle\n",
        "\n",
        "import math\n",
        "pi=22/7\n",
        "radius = int (input('enter the radius of the circle '))\n",
        "print(pi*radius**2)"
      ],
      "metadata": {
        "colab": {
          "base_uri": "https://localhost:8080/"
        },
        "id": "gYdvHoD0BxeI",
        "outputId": "f886f17e-f2b7-4c71-eff8-6c91e57c7b12"
      },
      "execution_count": null,
      "outputs": [
        {
          "output_type": "stream",
          "name": "stdout",
          "text": [
            "enter the radius of the circle 5\n",
            "78.57142857142857\n"
          ]
        }
      ]
    },
    {
      "cell_type": "code",
      "source": [
        "#printing name\n",
        "\n",
        "ask = str(input('whats your name '))\n",
        "print('hi' , ask)"
      ],
      "metadata": {
        "colab": {
          "base_uri": "https://localhost:8080/"
        },
        "id": "6WtkXrxcBxhH",
        "outputId": "4c68b51e-a6aa-4b1c-e272-15044a3447ec"
      },
      "execution_count": null,
      "outputs": [
        {
          "output_type": "stream",
          "name": "stdout",
          "text": [
            "whats your name babu\n",
            "hi babu\n"
          ]
        }
      ]
    },
    {
      "cell_type": "code",
      "source": [
        "s1='python'\n",
        "s2=\"world\"\n",
        "\n",
        "s3 = s1 + ' ' + s2\n",
        "print (s3)"
      ],
      "metadata": {
        "colab": {
          "base_uri": "https://localhost:8080/"
        },
        "id": "qZcnWaDFHNW5",
        "outputId": "220a63b9-3f15-4b18-f5a7-466b95c178cf"
      },
      "execution_count": null,
      "outputs": [
        {
          "output_type": "stream",
          "name": "stdout",
          "text": [
            "python world\n"
          ]
        }
      ]
    },
    {
      "cell_type": "code",
      "source": [
        "print(len(s3))"
      ],
      "metadata": {
        "colab": {
          "base_uri": "https://localhost:8080/"
        },
        "id": "xadUDFdmIXnd",
        "outputId": "860792a0-6809-4c32-f6fc-e52267b2dc78"
      },
      "execution_count": null,
      "outputs": [
        {
          "output_type": "stream",
          "name": "stdout",
          "text": [
            "12\n"
          ]
        }
      ]
    },
    {
      "cell_type": "code",
      "source": [
        "print(s3.upper()) #all character capital"
      ],
      "metadata": {
        "colab": {
          "base_uri": "https://localhost:8080/"
        },
        "id": "3oo0fwFfIbPR",
        "outputId": "2b588460-1f0a-443e-bccd-d3cabb0468aa"
      },
      "execution_count": null,
      "outputs": [
        {
          "output_type": "stream",
          "name": "stdout",
          "text": [
            "PYTHON WORLD\n"
          ]
        }
      ]
    },
    {
      "cell_type": "code",
      "source": [
        "print(s3.capitalize()) #first character capitalize"
      ],
      "metadata": {
        "colab": {
          "base_uri": "https://localhost:8080/"
        },
        "id": "mwslVK3CImo0",
        "outputId": "fdfda3f3-3221-437b-c214-62140e788795"
      },
      "execution_count": null,
      "outputs": [
        {
          "output_type": "stream",
          "name": "stdout",
          "text": [
            "Python world\n"
          ]
        }
      ]
    },
    {
      "cell_type": "code",
      "source": [
        "print(s3.split(' ')) #split at ' ' and make a list "
      ],
      "metadata": {
        "colab": {
          "base_uri": "https://localhost:8080/"
        },
        "id": "_lmyzcOZIyW9",
        "outputId": "e38f1dda-db12-4fb1-dc58-81f0119851a5"
      },
      "execution_count": null,
      "outputs": [
        {
          "output_type": "stream",
          "name": "stdout",
          "text": [
            "['python', 'world']\n"
          ]
        }
      ]
    },
    {
      "cell_type": "code",
      "source": [
        "print(s3.replace('o','e')) #replace 'o' to 'e'"
      ],
      "metadata": {
        "colab": {
          "base_uri": "https://localhost:8080/"
        },
        "id": "xFEWxfT9JZDj",
        "outputId": "f2d2b3a9-7c65-4477-edbf-0a62e82b3b65"
      },
      "execution_count": null,
      "outputs": [
        {
          "output_type": "stream",
          "name": "stdout",
          "text": [
            "pythen  , werld\n"
          ]
        }
      ]
    },
    {
      "cell_type": "code",
      "source": [
        "print(s3.find('on')) # find position of given word\n",
        "print(s3.find('hello')) #returns -1 if word not found"
      ],
      "metadata": {
        "colab": {
          "base_uri": "https://localhost:8080/"
        },
        "id": "P3XYCOjqKEZX",
        "outputId": "787ff110-44a4-4a93-e76e-21e1146ce153"
      },
      "execution_count": null,
      "outputs": [
        {
          "output_type": "stream",
          "name": "stdout",
          "text": [
            "4\n",
            "-1\n"
          ]
        }
      ]
    },
    {
      "cell_type": "code",
      "source": [
        "number = int(input('enter a number '))\n",
        "\n",
        "if number > 9 and number <100 :\n",
        "  print('2 digit number')\n",
        "elif number > 0 and number <10 :\n",
        "  print('1 digit number') \n",
        "elif number >100 :\n",
        "  print('more than or equal to 3 digits' )\n",
        "else :\n",
        "  print(' a negative number ')    "
      ],
      "metadata": {
        "colab": {
          "base_uri": "https://localhost:8080/"
        },
        "id": "H7JYOAAZKsYw",
        "outputId": "1d2210f6-e20b-4665-9b9f-4d07b42ddc11"
      },
      "execution_count": null,
      "outputs": [
        {
          "output_type": "stream",
          "name": "stdout",
          "text": [
            "enter a number 54654\n",
            "more than or equal to 3 digits\n"
          ]
        }
      ]
    },
    {
      "cell_type": "code",
      "source": [
        "ask = input(\"enter your name \")\n",
        "print('hi ', ask)\n",
        "\n",
        "question = input ( 'are you infected (yes/no)')\n",
        "print(question)\n",
        "\n",
        "if question.upper()=='YES':\n",
        "  print('you cannot enter as you are infected')\n",
        "elif question.upper()=='NO' :\n",
        "  print('welcome' , ask ) \n",
        "else :\n",
        "  print(\"enter a valid answer\")  \n",
        "    \n",
        " "
      ],
      "metadata": {
        "colab": {
          "base_uri": "https://localhost:8080/"
        },
        "id": "faMdq4V0L_tV",
        "outputId": "5626ee5a-d4dd-4a49-9db7-a09a832a30f5"
      },
      "execution_count": null,
      "outputs": [
        {
          "output_type": "stream",
          "name": "stdout",
          "text": [
            "enter your name nazal\n",
            "hi  nazal\n",
            "are you infected (yes/no)yes\n",
            "yes\n",
            "you cannot enter as you are infected\n"
          ]
        }
      ]
    },
    {
      "cell_type": "code",
      "source": [
        "ask = int (input(\"enter no of lines : \"))\n",
        "i = 1\n",
        "while(i<=ask):\n",
        "     j = 1\n",
        "     while(j<=i):\n",
        "           print(\"*\",end=\"\")\n",
        "           j=j+1 \n",
        "     print(\"\")\n",
        "     i=i+1"
      ],
      "metadata": {
        "colab": {
          "base_uri": "https://localhost:8080/"
        },
        "id": "9TEWhamANI79",
        "outputId": "78c1bd59-7c22-4e2e-e537-9bfad4d1d6e8"
      },
      "execution_count": 4,
      "outputs": [
        {
          "output_type": "stream",
          "name": "stdout",
          "text": [
            "enter no of lines : 10\n",
            "*\n",
            "**\n",
            "***\n",
            "****\n",
            "*****\n",
            "******\n",
            "*******\n",
            "********\n",
            "*********\n",
            "**********\n"
          ]
        }
      ]
    },
    {
      "cell_type": "code",
      "source": [],
      "metadata": {
        "id": "HFxclH8qqSr0"
      },
      "execution_count": null,
      "outputs": []
    }
  ]
}